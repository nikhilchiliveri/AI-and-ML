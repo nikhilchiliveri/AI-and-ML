{
 "cells": [
  {
   "cell_type": "markdown",
   "metadata": {},
   "source": [
    "## Question 1:\n",
    "Count the no.of words,no.of letters,no.of lines available in your file"
   ]
  },
  {
   "cell_type": "code",
   "execution_count": 1,
   "metadata": {},
   "outputs": [
    {
     "name": "stdout",
     "output_type": "stream",
     "text": [
      "Number of characters :  38\n",
      "Number of words :  6\n",
      "Number of lines:  4\n"
     ]
    }
   ],
   "source": [
    "file1 = open(\"sample.txt\",\"w\")\n",
    "file1.write(\"hell0\\nworld\\nthis is python\\nprogramming\")\n",
    "file1.close()\n",
    "f = open(\"sample.txt\",\"r\")\n",
    "data = f.read()\n",
    "numofchar = len(data)\n",
    "words = data.split()\n",
    "l1 = data.split(\"\\n\")\n",
    "lines = 0\n",
    "for i in l1:\n",
    "    if i:\n",
    "        lines += 1\n",
    "print(\"Number of characters : \",numofchar)\n",
    "print(\"Number of words : \",len(words))\n",
    "print(\"Number of lines: \",lines)"
   ]
  },
  {
   "cell_type": "markdown",
   "metadata": {},
   "source": [
    "## Question 2:\n",
    "Copy the content of one file to another"
   ]
  },
  {
   "cell_type": "code",
   "execution_count": 2,
   "metadata": {},
   "outputs": [
    {
     "name": "stdout",
     "output_type": "stream",
     "text": [
      "hell0\n",
      "world\n",
      "this is python\n",
      "programming\n"
     ]
    }
   ],
   "source": [
    "f = open(\"sample.txt\",\"r\")\n",
    "f1 = open(\"newfile.txt\", \"w\")\n",
    "count = f.readlines() \n",
    "type(count)\n",
    "for i in range(0, len(count)):\n",
    "    f1.write(count[i])\n",
    "\n",
    "f1 = open(\"newfile.txt\", \"r\")\n",
    "count1 = f1.read()\n",
    "print(count1)\n",
    "f.close() \n",
    "f1.close()"
   ]
  },
  {
   "cell_type": "markdown",
   "metadata": {},
   "source": [
    "## Question 3:\n",
    "Display the words starting with letter 'p'"
   ]
  },
  {
   "cell_type": "code",
   "execution_count": 3,
   "metadata": {},
   "outputs": [
    {
     "name": "stdout",
     "output_type": "stream",
     "text": [
      "python\n",
      "programming\n"
     ]
    }
   ],
   "source": [
    "f = open(\"sample.txt\",\"r\")\n",
    "data = f.read()\n",
    "for i in data.split():\n",
    "    if i.startswith(\"p\"):\n",
    "        print(i)"
   ]
  },
  {
   "cell_type": "markdown",
   "metadata": {},
   "source": [
    "## Question 5:\n",
    "Create a folder\n",
    "\n",
    "Goto that folder and create 5 no.of files\n",
    "\n",
    "All the file names should be unique\n",
    "\n",
    "Add some content into the file and the content in all the files should be unique\n",
    "\n",
    "File size should be 512bits"
   ]
  },
  {
   "cell_type": "code",
   "execution_count": 4,
   "metadata": {},
   "outputs": [
    {
     "name": "stdout",
     "output_type": "stream",
     "text": [
      "Successfully created the directory Q5 \n"
     ]
    },
    {
     "data": {
      "text/plain": [
       "6"
      ]
     },
     "execution_count": 4,
     "metadata": {},
     "output_type": "execute_result"
    }
   ],
   "source": [
    "import os\n",
    "#Creating a repsitory\n",
    "path = \"Q5\"\n",
    "try:\n",
    "    os.mkdir(path)\n",
    "except OSError:\n",
    "    print (\"Creation of the directory %s failed\" % path)\n",
    "else:\n",
    "    print (\"Successfully created the directory %s \" % path)\n",
    "os.chdir(\"Q5\")\n",
    "s1 = open(\"s1.txt\",\"w\")\n",
    "s2 = open(\"s2.txt\",\"w\")\n",
    "s3 = open(\"s3.txt\",\"w\")\n",
    "s4 = open(\"s4.txt\",\"w\")\n",
    "s5 = open(\"s5.txt\",\"w\")\n",
    "s1.write(\"hell0\")\n",
    "s2.write(\"world\")\n",
    "s3.write(\"This\")\n",
    "s4.write(\"is \")\n",
    "s5.write(\"python\")"
   ]
  },
  {
   "cell_type": "code",
   "execution_count": null,
   "metadata": {},
   "outputs": [],
   "source": []
  }
 ],
 "metadata": {
  "kernelspec": {
   "display_name": "Python 3",
   "language": "python",
   "name": "python3"
  },
  "language_info": {
   "codemirror_mode": {
    "name": "ipython",
    "version": 3
   },
   "file_extension": ".py",
   "mimetype": "text/x-python",
   "name": "python",
   "nbconvert_exporter": "python",
   "pygments_lexer": "ipython3",
   "version": "3.7.6"
  }
 },
 "nbformat": 4,
 "nbformat_minor": 4
}

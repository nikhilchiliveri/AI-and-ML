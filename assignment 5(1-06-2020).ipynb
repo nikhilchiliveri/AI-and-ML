{
 "cells": [
  {
   "cell_type": "code",
   "execution_count": 3,
   "metadata": {},
   "outputs": [
    {
     "name": "stdout",
     "output_type": "stream",
     "text": [
      "Furryphone12~\n",
      "If not satisfied type no to view another password\n",
      "no\n",
      "-------------\n",
      "Furrybottle55=\n",
      "Beautifulcat70~\n",
      "Sixteenmouse37$\n",
      "Richbottle27{\n",
      "Happybottle17>\n",
      "-------------\n",
      "you can choose one among theese 5\n"
     ]
    }
   ],
   "source": [
    "import random,string\n",
    "adjectives = [\"Beautiful\",\"Furry\",\"Sixteen\",\"Happy\",\"Haster\",\"Cool\",\"Rich\",\"Simple\"]\n",
    "noun = [\"bottle\",\"cat\",\"laptop\",\"mouse\",\"phone\",\"pillow\",\"dog\"]\n",
    "password = random.choice(adjectives)+random.choice(noun)+str(random.randint(10,100))+random.choice(string.punctuation)\n",
    "print(password)\n",
    "print(\"If not satisfied type no to view another password\")\n",
    "if input() == \"no\".lower():\n",
    "    print(\"-------------\")\n",
    "    for i in range(0,5):\n",
    "        password = random.choice(adjectives)+random.choice(noun)+str(random.randint(1,100))+random.choice(string.punctuation)\n",
    "        print(password)\n",
    "    print(\"-------------\")\n",
    "    print(\"you can choose one among theese 5\")\n",
    "else:\n",
    "    pass\n"
   ]
  },
  {
   "cell_type": "code",
   "execution_count": 5,
   "metadata": {},
   "outputs": [
    {
     "name": "stdout",
     "output_type": "stream",
     "text": [
      "Simplecat28)\n",
      "Are you satisfied whith password ?\n",
      "Type 'yes' or 'no' \n",
      "no\n",
      "Happymouse36\\\n",
      "Are you satisfied whith password ?\n",
      "Type 'yes' or 'no' \n",
      "no\n",
      "Richpillow70;\n",
      "Are you satisfied whith password ?\n",
      "Type 'yes' or 'no' \n",
      "yes\n"
     ]
    }
   ],
   "source": [
    "import random,string\n",
    "adjectives = [\"Beautiful\",\"Furry\",\"Sixteen\",\"Happy\",\"Haster\",\"Cool\",\"Rich\",\"Simple\"]\n",
    "noun = [\"bottle\",\"cat\",\"laptop\",\"mouse\",\"phone\",\"pillow\",\"dog\"]\n",
    "while True:\n",
    "    password = random.choice(adjectives)+random.choice(noun)+str(random.randint(10,100))+random.choice(string.punctuation)\n",
    "    print(password)\n",
    "    print(\"Are you satisfied whith password ?\")\n",
    "    print(\"Type 'yes' or 'no' \")\n",
    "    inp = input()\n",
    "    if inp == \"yes\".lower():\n",
    "        break\n",
    "    elif inp == \"no\".lower():\n",
    "        continue\n",
    "    else: \n",
    "        print(\"enter yes or no\")"
   ]
  },
  {
   "cell_type": "code",
   "execution_count": null,
   "metadata": {},
   "outputs": [],
   "source": []
  }
 ],
 "metadata": {
  "kernelspec": {
   "display_name": "Python 3",
   "language": "python",
   "name": "python3"
  },
  "language_info": {
   "codemirror_mode": {
    "name": "ipython",
    "version": 3
   },
   "file_extension": ".py",
   "mimetype": "text/x-python",
   "name": "python",
   "nbconvert_exporter": "python",
   "pygments_lexer": "ipython3",
   "version": "3.7.6"
  }
 },
 "nbformat": 4,
 "nbformat_minor": 4
}
